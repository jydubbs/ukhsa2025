{
 "cells": [
  {
   "cell_type": "markdown",
   "id": "01825b48-534c-4f07-aa10-2d23d6af205c",
   "metadata": {},
   "source": [
    "## Dashboard"
   ]
  },
  {
   "cell_type": "code",
   "execution_count": 6,
   "id": "02379311-706c-4576-b114-a5e4de8762b0",
   "metadata": {},
   "outputs": [],
   "source": [
    "from IPython.display import clear_output\n",
    "import ipywidgets as wdg\n",
    "import pandas as pd\n",
    "import numpy as np\n",
    "import matplotlib.pyplot as plt\n",
    "import requests\n",
    "import time\n",
    "import json"
   ]
  },
  {
   "cell_type": "code",
   "execution_count": 7,
   "id": "93adabcc-62e3-4a92-8964-4c9b957ed7f8",
   "metadata": {},
   "outputs": [],
   "source": [
    "%matplotlib inline\n",
    "# make figures larger\n",
    "plt.rcParams['figure.dpi'] = 100"
   ]
  },
  {
   "cell_type": "markdown",
   "id": "1fdce179-83a0-47de-911e-473d870fc3ad",
   "metadata": {},
   "source": [
    "## Load initial data from disk"
   ]
  },
  {
   "cell_type": "code",
   "execution_count": 8,
   "id": "810a7e72-cddc-408a-a47e-f05b65d77a59",
   "metadata": {},
   "outputs": [],
   "source": [
    "# Load JSON files and store the raw data in some variable. Edit as appropriate\n",
    "#jsondata={}\n",
    "with open(\"cases.json\", \"rt\") as INFILE:\n",
    "    resistance_cases=json.load(INFILE)"
   ]
  },
  {
   "cell_type": "code",
   "execution_count": 9,
   "id": "9d67251d-7050-4770-8aa7-85120c9ba27a",
   "metadata": {},
   "outputs": [],
   "source": [
    "with open(\"testing.json\", \"rt\") as INFILE:\n",
    "    number_testing=json.load(INFILE)"
   ]
  },
  {
   "cell_type": "code",
   "execution_count": 10,
   "id": "5b3c7160-a45e-4efa-aeeb-158b528dd32f",
   "metadata": {},
   "outputs": [],
   "source": [
    "with open(\"percent_testing.json\", \"rt\") as INFILE:\n",
    "    percent_testing=json.load(INFILE)"
   ]
  },
  {
   "cell_type": "markdown",
   "id": "6e9f664e-f820-4c29-bd50-a81b4579a354",
   "metadata": {},
   "source": [
    "## Wrangle the data¶"
   ]
  },
  {
   "cell_type": "code",
   "execution_count": 11,
   "id": "495ea0c5-89c4-4220-8cf0-dd8f335da9fe",
   "metadata": {},
   "outputs": [],
   "source": [
    "def parse_date(datestring):\n",
    "    \"\"\" Convert a date string into a pandas datetime object \"\"\"\n",
    "    return pd.to_datetime(datestring, format=\"%Y-%m-%d\")"
   ]
  },
  {
   "cell_type": "code",
   "execution_count": 12,
   "id": "860fb90a-0f03-4c24-8a8a-600329b66abb",
   "metadata": {},
   "outputs": [],
   "source": [
    "def wrangle_data(resistance_cases,number_testing,percent_testing):\n",
    "    \"\"\" Parameters: rawdata - data from json file or API call. Returns a dataframe.\n",
    "    Edit to include the code that wrangles the data, creates the dataframe and fills it in. \"\"\"\n",
    "    names={'k-pneumoniae_testing_bacteraemiaPercentResistantRollingMonth':'Percent_resistance',\n",
    "       'k-pneumoniae_testing_bacteraemiaPercentTestedRollingMonth':'Percent_tested',\n",
    "       'k-pneumoniae_testing_bacteraemiaNumberTestedRollingMonth':'Number_tested'}\n",
    "    data={}\n",
    "    for dataset in [resistance_cases,number_testing,percent_testing]:\n",
    "        for entry in dataset:\n",
    "            date=entry['date']\n",
    "            metric=names[entry['metric']]\n",
    "            value=entry['metric_value']\n",
    "            drug=entry['stratum']\n",
    "            if metric not in data:\n",
    "                data[metric]={}\n",
    "            if date not in data[metric]:\n",
    "                data[metric][date]={}\n",
    "            data[metric][date][drug]=value\n",
    "    dfs = {}\n",
    "    for metric, metric_data in data.items(): #returns using tuple unpacking like (\"Percent_resistance\", {...}) and (\"Percent_tested\", {...}) because using .items results in tuples in the data dictionary of (metric_type,metric_data{....}_\n",
    "        dates=sorted(metric_data.keys())\n",
    "        df = pd.DataFrame.from_dict(metric_data, orient='index')\n",
    "        df.index = pd.to_datetime(df.index)\n",
    "        df.sort_index(inplace=True)\n",
    "        df.fillna(0.0, inplace=True)\n",
    "        dfs[metric] = df\n",
    "    return dfs\n",
    "\n",
    "dfs = wrangle_data(resistance_cases, number_testing, percent_testing)\n",
    "\n",
    "number_tested_df = dfs['Number_tested']\n",
    "percent_tested_df = dfs['Percent_tested']\n",
    "percent_resistance_df = dfs['Percent_resistance']\n",
    "\n",
    "\n",
    "# putting the wrangling code into a function allows you to call it again after refreshing the data through \n",
    "# the API. You should call the function directly on the JSON data when the dashboard starts, by including \n",
    "# the call in this cell as below:\n",
    "df=wrangle_data(resistance_cases,number_testing,percent_testing) # df is the dataframe for plotting"
   ]
  },
  {
   "cell_type": "markdown",
   "id": "34d51ee8-5c67-4953-96b2-7c30472def82",
   "metadata": {},
   "source": [
    "## Download the current data"
   ]
  },
  {
   "cell_type": "code",
   "execution_count": 13,
   "id": "9bad5604-ca52-4f11-88e2-1796fb48d412",
   "metadata": {},
   "outputs": [],
   "source": [
    "import requests\n",
    "import time\n",
    "\n",
    "class APIwrapper:\n",
    "    # class variables shared among all instances\n",
    "    _access_point=\"https://api.ukhsa-dashboard.data.gov.uk\"\n",
    "    _last_access=0.0 # time of last api access\n",
    "    \n",
    "    def __init__(self, theme, sub_theme, topic, geography_type, geography, metric):\n",
    "        \"\"\" Init the APIwrapper object, constructing the endpoint from the structure\n",
    "        parameters \"\"\"\n",
    "        # build the path with all the required structure parameters. You do not need to edit this line,\n",
    "        # parameters will be replaced by the actual values when you instantiate an object of the class!\n",
    "        url_path=(f\"/themes/{theme}/sub_themes/{sub_theme}/topics/{topic}/geography_types/\" +\n",
    "                  f\"{geography_type}/geographies/{geography}/metrics/{metric}\")\n",
    "        # our starting API endpoint\n",
    "        self._start_url=APIwrapper._access_point+url_path\n",
    "        self._filters=None\n",
    "        self._page_size=-1\n",
    "        # will contain the number of items\n",
    "        self.count=None\n",
    "\n",
    "    def get_page(self, filters={}, page_size=7): #good for exploring, by default it gets 7 pages - useful for getting and trying different metrics and understanding results\n",
    "        \"\"\" Access the API and download the next page of data. Sets the count\n",
    "        attribute to the total number of items available for this query. Changing\n",
    "        filters or page_size will cause get_page to restart from page 1. Rate\n",
    "        limited to three request per second. The page_size parameter sets the number\n",
    "        of data points in one response page (maximum 365); use the default value \n",
    "        for debugging your structure and filters. \"\"\"\n",
    "        # Check page size is within range\n",
    "        if page_size>365:\n",
    "            raise ValueError(\"Max supported page size is 365\")\n",
    "        # restart from first page if page or filters have changed\n",
    "        if filters!=self._filters or page_size!=self._page_size:\n",
    "            self._filters=filters\n",
    "            self._page_size=page_size\n",
    "            self._next_url=self._start_url\n",
    "        # signal the end of data condition\n",
    "        if self._next_url==None: \n",
    "            return [] # we already fetched the last page\n",
    "        # simple rate limiting to avoid bans\n",
    "        curr_time=time.time() # Unix time: number of seconds since the Epoch\n",
    "        deltat=curr_time-APIwrapper._last_access\n",
    "        if deltat<0.33: # max 3 requests/second\n",
    "            time.sleep(0.33-deltat)\n",
    "        APIwrapper._last_access=curr_time\n",
    "        # build parameter dictionary by removing all the None\n",
    "        # values from filters and adding page_size\n",
    "        parameters={x: y for x, y in filters.items() if y!=None}\n",
    "        parameters['page_size']=page_size\n",
    "        # the page parameter is already included in _next_url.\n",
    "        # This is the API access. Response is a dictionary with various keys.\n",
    "        # the .json() method decodes the response into Python object (dictionaries,\n",
    "        # lists; 'null' values are translated as None).\n",
    "        response = requests.get(self._next_url, params=parameters).json()\n",
    "        # update url so we'll fetch the next page\n",
    "        self._next_url=response['next']#changes url to next page - each time you call  get page it will give you next new page\n",
    "        self.count=response['count']#set number of counts you have\n",
    "        # data are in the nested 'results' list\n",
    "        return response['results'] \n",
    "\n",
    "    def get_all_pages(self, filters={}, page_size=365): #for retrieving all the data as one big list - more convenient\n",
    "        \"\"\" Access the API and download all available data pages of data. Sets the count\n",
    "        attribute to the total number of items available for this query. API access rate\n",
    "        limited to three request per second. The page_size parameter sets the number\n",
    "        of data points in one response page (maximum 365), and controls the trade-off\n",
    "        between time to load a page and number of pages; the default should work well \n",
    "        in most cases. The number of items returned should in any case be equal to \n",
    "        the count attribute. \"\"\"\n",
    "        data=[] # build up all data here\n",
    "        while True:\n",
    "            # use get_page to do the job, including the pacing\n",
    "            next_page=self.get_page(filters, page_size)\n",
    "            if next_page==[]:\n",
    "                break # we are done\n",
    "            data.extend(next_page)\n",
    "        return data"
   ]
  },
  {
   "cell_type": "code",
   "execution_count": 18,
   "id": "05413cef-6a65-40a7-b976-0d0d05f05000",
   "metadata": {},
   "outputs": [],
   "source": [
    "with open(\"cases.json\", \"wt\") as OUTF: #open a file for writing in text - and writes in json format = now sved into disc - you can also get more data for your dashboard\n",
    "    json.dump(cases, OUTF)"
   ]
  },
  {
   "cell_type": "code",
   "execution_count": 19,
   "id": "7cd5d219-b52d-42db-af7f-58fee84b6d1f",
   "metadata": {},
   "outputs": [],
   "source": [
    "with open(\"percent_testing.json\", \"wt\") as OUTF:\n",
    "    json.dump(percent_testing, OUTF)"
   ]
  },
  {
   "cell_type": "code",
   "execution_count": 20,
   "id": "fc8d87c9-11de-463d-8660-215458d2f35d",
   "metadata": {},
   "outputs": [],
   "source": [
    "with open(\"testing.json\", \"wt\") as OUTF:\n",
    "    json.dump(testing, OUTF)"
   ]
  },
  {
   "cell_type": "code",
   "execution_count": 23,
   "id": "2ede0dd5-8e7a-437f-b96f-80d452fed0b3",
   "metadata": {},
   "outputs": [],
   "source": [
    "# Place your API access code in this function. Do not call this function directly; it will be called by \n",
    "# the button callback. \n",
    "def access_api():\n",
    "    \"\"\" Accesses the UKHSA API. Return data as a like-for-like replacement for the \"canned\" data loaded from the JSON file. \"\"\"\n",
    "    structure={\"theme\": \"infectious_disease\", \n",
    "           \"sub_theme\": \"antimicrobial_resistance\",\n",
    "           \"topic\": \"K-pneumoniae\",\n",
    "           \"geography_type\": \"Nation\", \n",
    "           \"geography\": \"England\"}\n",
    "    #puts together as dictcionary\n",
    "\n",
    "    # Antimicrobial resistance in Klebsiella pneumoniae, percent of resistance by month\n",
    "    structure[\"metric\"]=\"k-pneumoniae_testing_bacteraemiaPercentResistantRollingMonth\" \n",
    "    api=APIwrapper(**structure)\n",
    "    cases=api.get_all_pages() #once you are done exploring and investigating the metrics, you can do this - or you can get page and look like code below\n",
    "    print(f\"Data points expected: {api.count}\")\n",
    "    print(f\"Data points retrieved: {len(cases)}\")\n",
    "\n",
    "    structure[\"metric\"]=\"k-pneumoniae_testing_bacteraemiaPercentTestedRollingMonth\"\n",
    "    api=APIwrapper(**structure)\n",
    "    percent_testing=api.get_all_pages()\n",
    "    print(f\"Data points expected: {api.count}\")\n",
    "    print(f\"Data points retrieved: {len(percent_testing)}\")\n",
    "    \n",
    "    structure[\"metric\"]=\"k-pneumoniae_testing_bacteraemiaNumberTestedRollingMonth\"\n",
    "    api=APIwrapper(**structure)\n",
    "    testing=api.get_all_pages()\n",
    "    print(f\"Data points expected: {api.count}\")\n",
    "    print(f\"Data points retrieved: {len(testing)}\")\n",
    "    \n",
    "    return {\n",
    "        \"resistance\": cases,\n",
    "        \"percent_testing\": percent_testing,\n",
    "        \"testing\": testing\n",
    "}\n",
    "         # return data read from the API"
   ]
  },
  {
   "cell_type": "code",
   "execution_count": 24,
   "id": "4bfdd6a1-990a-4b4c-a15a-c18ee1634585",
   "metadata": {},
   "outputs": [
    {
     "data": {
      "application/vnd.jupyter.widget-view+json": {
       "model_id": "0c5f7310305b47b29b85110eae2b7aee",
       "version_major": 2,
       "version_minor": 0
      },
      "text/plain": [
       "Button(button_style='info', description='Refresh', icon='sync', style=ButtonStyle(), tooltip='Click to graph n…"
      ]
     },
     "metadata": {},
     "output_type": "display_data"
    }
   ],
   "source": [
    "# Printout from this function will be lost in Voila unless captured in an\n",
    "# output widget - therefore, we give feedback to the user by changing the \n",
    "# appearance of the button\n",
    "def api_button_callback(button):\n",
    "    \"\"\" Button callback - it must take the button as its parameter (unused in this case).\n",
    "    Accesses API, wrangles data, updates global variable df used for plotting. \"\"\"\n",
    "    # Get fresh data from the API. If you have time, include some error handling\n",
    "    # around this call.\n",
    "    apidata=access_api()\n",
    "    # wrangle the data and overwrite the dataframe for plotting\n",
    "    global df\n",
    "    dfs=wrangle_data(apidata)\n",
    "    # the graph won't refresh until the user interacts with the widget.\n",
    "    # this function simulates the interaction, see Graph and Analysis below.\n",
    "    # The function needs to be adapted to your graph; you can omit this call\n",
    "    # in the first instance\n",
    "    refresh_graph()\n",
    "    # after all is done, you can switch the icon on the button to a \"check\" sign\n",
    "    # and optionally disable the button - it won't be needed again. If you are \n",
    "    # implementing error handling, you can use icons \"unlink\" or \"times\" and \n",
    "    # change the button text to \"Unavailable\" when the api call fails.\n",
    "    apibutton.icon=\"check\"\n",
    "    # apibutton.disabled=True\n",
    "\n",
    "\n",
    "\n",
    "\n",
    "apibutton=wdg.Button(\n",
    "    description='Refresh', # you may want to change this...\n",
    "    disabled=False,\n",
    "    button_style='info', # 'success', 'info', 'warning', 'danger' or ''\n",
    "    tooltip=\"Click to graph new data\",\n",
    "    # FontAwesome names without the `fa-` prefix - try \"download\"\n",
    "    icon='sync'\n",
    ")\n",
    "\n",
    "# remember to register your button callback function with the button\n",
    "apibutton.on_click(api_button_callback) # the name of your function inside these brackets\n",
    "\n",
    "display(apibutton)\n",
    "\n",
    "# run all cells before clicking on this button"
   ]
  },
  {
   "cell_type": "markdown",
   "id": "aa0b5ca4-af0c-48b2-8347-fae67c2f2726",
   "metadata": {},
   "source": [
    "## Graphs and analysis"
   ]
  },
  {
   "cell_type": "code",
   "execution_count": 25,
   "id": "142581d0-8a87-431f-9d90-94c191414917",
   "metadata": {},
   "outputs": [
    {
     "data": {
      "application/vnd.jupyter.widget-view+json": {
       "model_id": "ba76dae0f63a4518a0548c3d3f92aa1c",
       "version_major": 2,
       "version_minor": 0
      },
      "text/plain": [
       "HBox(children=(SelectMultiple(description='Drug:', index=(0, 1, 2, 3, 4, 5, 6), options=('Piperacillin with ta…"
      ]
     },
     "metadata": {},
     "output_type": "display_data"
    },
    {
     "data": {
      "application/vnd.jupyter.widget-view+json": {
       "model_id": "1caf67ab93ba47f88811e904c73e3812",
       "version_major": 2,
       "version_minor": 0
      },
      "text/plain": [
       "Output()"
      ]
     },
     "metadata": {},
     "output_type": "display_data"
    }
   ],
   "source": [
    "series=wdg.SelectMultiple(\n",
    "    options=['Piperacillin with tazobactam', 'Gentamicin', 'Ciprofloxacin', 'Co-amoxiclav', 'Third Generation Cephalosporins', 'Carbapenems', 'Amikacin'],\n",
    "    value=['Piperacillin with tazobactam', 'Gentamicin', 'Ciprofloxacin', 'Co-amoxiclav', 'Third Generation Cephalosporins', 'Carbapenems', 'Amikacin'],\n",
    "    rows=7,\n",
    "    description='Drug:',\n",
    "    disabled=False\n",
    ")\n",
    "\n",
    "scale=wdg.RadioButtons(\n",
    "    options=['linear', 'log'],\n",
    "#   value='pineapple', # Defaults to 'pineapple'\n",
    "#   layout={'width': 'max-content'}, # If the items' names are long\n",
    "    description='Stats:',\n",
    "    disabled=False\n",
    ")\n",
    "\n",
    "# try replacing HBox with a VBox\n",
    "controls=wdg.HBox([series, scale])\n",
    "\n",
    "def timeseries_graph(gcols, gscale):\n",
    "    if gscale=='linear':\n",
    "        logscale=False\n",
    "    else:\n",
    "        logscale=True\n",
    "    ncols=len(gcols)\n",
    "    if ncols>0:\n",
    "        percent_resistance_bar=percent_resistance_df[list(gcols)].plot(logy=logscale)\n",
    "        percent_resistance_bar.set_ylabel(\"Percentage resistance of K.pneumoniae\")\n",
    "        plt.show() # important - graphs won't update if this is missing \n",
    "        print(\"(CTRL-Click to select more than one category)\")\n",
    "    else:\n",
    "        print(\"Click to select data for graph\")\n",
    "        print(\"(CTRL-Click to select more than one category)\")\n",
    "\n",
    "# --- the refresh function ---\n",
    "def refresh_graph():\n",
    "    \"\"\"Force the graph to refresh after the data (percent_resistance_df) changes.\"\"\"\n",
    "    current_scale = scale.value\n",
    "    # Flip the scale temporarily to force a re-render\n",
    "    if current_scale == 'linear':\n",
    "        other = 'log'\n",
    "    else:\n",
    "        other = 'linear'\n",
    "    scale.value = other\n",
    "    scale.value = current_scale\n",
    "\n",
    "\n",
    "# keep calling timeseries_graph(gcols=value_of_series, gscale=value_of_scale); \n",
    "# capture output in widget graph   \n",
    "graph=wdg.interactive_output(timeseries_graph, {'gcols': series, 'gscale': scale})\n",
    "\n",
    "display(controls, graph)\n"
   ]
  },
  {
   "cell_type": "code",
   "execution_count": 29,
   "id": "1835e7e6-6a3c-44f5-8d25-6654b1240365",
   "metadata": {},
   "outputs": [
    {
     "data": {
      "application/vnd.jupyter.widget-view+json": {
       "model_id": "f0baad1a57994ce0a0728d5e501a116f",
       "version_major": 2,
       "version_minor": 0
      },
      "text/plain": [
       "Select(description='Year', index=5, options=(2020, 2021, 2022, 2023, 2024, 2025), rows=1, value=2025)"
      ]
     },
     "metadata": {},
     "output_type": "display_data"
    },
    {
     "data": {
      "application/vnd.jupyter.widget-view+json": {
       "model_id": "e77f092dc82f4f08af70de05c92af3c3",
       "version_major": 2,
       "version_minor": 0
      },
      "text/plain": [
       "Output()"
      ]
     },
     "metadata": {},
     "output_type": "display_data"
    }
   ],
   "source": [
    "year=wdg.Select(\n",
    "    options=number_tested_df.index.year.unique(), # options available\n",
    "    value=number_tested_df.index.year[-1], # initial value: most recent year\n",
    "    rows=1, # rows of the selection box\n",
    "    description='Year',\n",
    "    disabled=False\n",
    ")\n",
    "\n",
    "controls=wdg.HBox([series])\n",
    "\n",
    "def lineage_graph(graphyear):\n",
    "    yeardf=number_tested_df[number_tested_df.index.year==graphyear] #only gets the dataframe for the year selected by user\n",
    "    monthly = yeardf.resample('ME').mean()\n",
    "    number_tested_bar=monthly.plot(kind='bar', figsize=(12,6), width=0.8)\n",
    "    number_tested_bar.set_xticklabels([d.strftime('%b') for d in monthly.index], rotation=45)\n",
    "    number_tested_bar.set_title(f'Number of Klebsiella pneumoniae cases tested per month in {graphyear}')\n",
    "    number_tested_bar.set_ylabel('Number of Cases')\n",
    "    plt.tight_layout()\n",
    "    plt.show()\n",
    "\n",
    "output = wdg.interactive_output(lineage_graph, {'graphyear': year})\n",
    "display(year, output)\n"
   ]
  }
 ],
 "metadata": {
  "kernelspec": {
   "display_name": "Python 3 (ipykernel)",
   "language": "python",
   "name": "python3"
  },
  "language_info": {
   "codemirror_mode": {
    "name": "ipython",
    "version": 3
   },
   "file_extension": ".py",
   "mimetype": "text/x-python",
   "name": "python",
   "nbconvert_exporter": "python",
   "pygments_lexer": "ipython3",
   "version": "3.11.9"
  }
 },
 "nbformat": 4,
 "nbformat_minor": 5
}
